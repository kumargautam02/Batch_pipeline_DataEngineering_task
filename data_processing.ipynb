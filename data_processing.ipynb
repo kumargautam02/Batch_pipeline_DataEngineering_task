{
 "cells": [
  {
   "cell_type": "code",
   "execution_count": 10,
   "metadata": {},
   "outputs": [],
   "source": [
    "import pandas as pd\n",
    "from database_script import my_conn\n",
    "from sqlalchemy import create_engine\n",
    "from sqlalchemy import text\n",
    "from sqlalchemy.exc import SQLAlchemyError\n",
    "\n",
    "df  = pd.read_csv(\"C:/Users/Admin/Downloads/csv_format.csv\")"
   ]
  },
  {
   "cell_type": "code",
   "execution_count": 11,
   "metadata": {},
   "outputs": [
    {
     "data": {
      "text/html": [
       "<div>\n",
       "<style scoped>\n",
       "    .dataframe tbody tr th:only-of-type {\n",
       "        vertical-align: middle;\n",
       "    }\n",
       "\n",
       "    .dataframe tbody tr th {\n",
       "        vertical-align: top;\n",
       "    }\n",
       "\n",
       "    .dataframe thead th {\n",
       "        text-align: right;\n",
       "    }\n",
       "</style>\n",
       "<table border=\"1\" class=\"dataframe\">\n",
       "  <thead>\n",
       "    <tr style=\"text-align: right;\">\n",
       "      <th></th>\n",
       "      <th>Artist</th>\n",
       "      <th>Title</th>\n",
       "      <th>Year</th>\n",
       "      <th>Sales</th>\n",
       "      <th>Streams</th>\n",
       "      <th>Downloads</th>\n",
       "      <th>Radio Plays</th>\n",
       "      <th>Rating</th>\n",
       "    </tr>\n",
       "  </thead>\n",
       "  <tbody>\n",
       "    <tr>\n",
       "      <th>0</th>\n",
       "      <td>Bill Haley &amp; his Comets</td>\n",
       "      <td>Rock Around the Clock</td>\n",
       "      <td>1955</td>\n",
       "      <td>36.503</td>\n",
       "      <td>19.961</td>\n",
       "      <td>7.458</td>\n",
       "      <td>5.663</td>\n",
       "      <td>0.760</td>\n",
       "    </tr>\n",
       "    <tr>\n",
       "      <th>1</th>\n",
       "      <td>Celine Dion</td>\n",
       "      <td>My Heart Will Go On</td>\n",
       "      <td>1998</td>\n",
       "      <td>35.405</td>\n",
       "      <td>12.636</td>\n",
       "      <td>8.944</td>\n",
       "      <td>23.701</td>\n",
       "      <td>3.610</td>\n",
       "    </tr>\n",
       "    <tr>\n",
       "      <th>2</th>\n",
       "      <td>Sinead O'Connor</td>\n",
       "      <td>Nothing Compares 2 U</td>\n",
       "      <td>1990</td>\n",
       "      <td>35.135</td>\n",
       "      <td>14.582</td>\n",
       "      <td>10.242</td>\n",
       "      <td>23.747</td>\n",
       "      <td>2.733</td>\n",
       "    </tr>\n",
       "    <tr>\n",
       "      <th>3</th>\n",
       "      <td>The Beatles</td>\n",
       "      <td>Hey Jude</td>\n",
       "      <td>1968</td>\n",
       "      <td>34.442</td>\n",
       "      <td>25.545</td>\n",
       "      <td>16.390</td>\n",
       "      <td>16.541</td>\n",
       "      <td>1.510</td>\n",
       "    </tr>\n",
       "    <tr>\n",
       "      <th>4</th>\n",
       "      <td>Bryan Adams</td>\n",
       "      <td>(Everything I Do) I Do it For You</td>\n",
       "      <td>1991</td>\n",
       "      <td>34.367</td>\n",
       "      <td>16.523</td>\n",
       "      <td>12.368</td>\n",
       "      <td>23.194</td>\n",
       "      <td>3.121</td>\n",
       "    </tr>\n",
       "  </tbody>\n",
       "</table>\n",
       "</div>"
      ],
      "text/plain": [
       "                    Artist                              Title  Year   Sales  \\\n",
       "0  Bill Haley & his Comets              Rock Around the Clock  1955  36.503   \n",
       "1              Celine Dion                My Heart Will Go On  1998  35.405   \n",
       "2          Sinead O'Connor               Nothing Compares 2 U  1990  35.135   \n",
       "3              The Beatles                           Hey Jude  1968  34.442   \n",
       "4              Bryan Adams  (Everything I Do) I Do it For You  1991  34.367   \n",
       "\n",
       "   Streams  Downloads  Radio Plays  Rating  \n",
       "0   19.961      7.458        5.663   0.760  \n",
       "1   12.636      8.944       23.701   3.610  \n",
       "2   14.582     10.242       23.747   2.733  \n",
       "3   25.545     16.390       16.541   1.510  \n",
       "4   16.523     12.368       23.194   3.121  "
      ]
     },
     "execution_count": 11,
     "metadata": {},
     "output_type": "execute_result"
    }
   ],
   "source": [
    "df.head()"
   ]
  },
  {
   "cell_type": "code",
   "execution_count": 27,
   "metadata": {},
   "outputs": [
    {
     "data": {
      "text/plain": [
       "4850"
      ]
     },
     "execution_count": 27,
     "metadata": {},
     "output_type": "execute_result"
    }
   ],
   "source": [
    "df.to_sql(con = my_conn, name = 'artist', if_exists='append')"
   ]
  },
  {
   "cell_type": "code",
   "execution_count": 28,
   "metadata": {},
   "outputs": [
    {
     "name": "stdout",
     "output_type": "stream",
     "text": [
      "[(14550,)]\n"
     ]
    }
   ],
   "source": [
    "result = my_conn.execute(text(\"SELECT count(*) FROM artist\"))\n",
    "columns = [] \n",
    "  \n",
    "for elem in result.cursor.description: \n",
    "    columns.append(elem[0]) \n",
    "print(result.all())"
   ]
  },
  {
   "cell_type": "code",
   "execution_count": 25,
   "metadata": {},
   "outputs": [
    {
     "name": "stdout",
     "output_type": "stream",
     "text": [
      "['index', 'Artist', 'Title', 'Year', 'Sales', 'Streams', 'Downloads', 'Radio Plays', 'Rating']\n"
     ]
    }
   ],
   "source": [
    "print(columns)"
   ]
  },
  {
   "cell_type": "code",
   "execution_count": null,
   "metadata": {},
   "outputs": [],
   "source": []
  }
 ],
 "metadata": {
  "kernelspec": {
   "display_name": "Python 3",
   "language": "python",
   "name": "python3"
  },
  "language_info": {
   "codemirror_mode": {
    "name": "ipython",
    "version": 3
   },
   "file_extension": ".py",
   "mimetype": "text/x-python",
   "name": "python",
   "nbconvert_exporter": "python",
   "pygments_lexer": "ipython3",
   "version": "3.11.2"
  }
 },
 "nbformat": 4,
 "nbformat_minor": 2
}
