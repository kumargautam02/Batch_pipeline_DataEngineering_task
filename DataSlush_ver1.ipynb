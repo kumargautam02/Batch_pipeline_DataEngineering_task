{
  "cells": [
    {
      "cell_type": "code",
      "execution_count": 5,
      "metadata": {
        "colab": {
          "base_uri": "https://localhost:8080/"
        },
        "id": "8jvc5sYE_p_e",
        "outputId": "c3e20659-fbdc-4df0-a1e0-0726120ff8bc"
      },
      "outputs": [
        {
          "name": "stdout",
          "output_type": "stream",
          "text": [
            "Collecting pyspark\n",
            "  Downloading pyspark-3.5.0.tar.gz (316.9 MB)\n",
            "\u001b[2K     \u001b[90m━━━━━━━━━━━━━━━━━━━━━━━━━━━━━━━━━━━━━━━━\u001b[0m \u001b[32m316.9/316.9 MB\u001b[0m \u001b[31m3.4 MB/s\u001b[0m eta \u001b[36m0:00:00\u001b[0m\n",
            "\u001b[?25h  Preparing metadata (setup.py) ... \u001b[?25l\u001b[?25hdone\n",
            "Requirement already satisfied: py4j==0.10.9.7 in /usr/local/lib/python3.10/dist-packages (from pyspark) (0.10.9.7)\n",
            "Building wheels for collected packages: pyspark\n",
            "  Building wheel for pyspark (setup.py) ... \u001b[?25l\u001b[?25hdone\n",
            "  Created wheel for pyspark: filename=pyspark-3.5.0-py2.py3-none-any.whl size=317425345 sha256=440aeb6d7820a959359eac8b845f717782a183551c61466909b3f5d585162c69\n",
            "  Stored in directory: /root/.cache/pip/wheels/41/4e/10/c2cf2467f71c678cfc8a6b9ac9241e5e44a01940da8fbb17fc\n",
            "Successfully built pyspark\n",
            "Installing collected packages: pyspark\n",
            "Successfully installed pyspark-3.5.0\n"
          ]
        }
      ],
      "source": [
        "pip install pyspark"
      ]
    },
    {
      "cell_type": "code",
      "execution_count": 1,
      "metadata": {
        "id": "8oJZsHY5lG6D"
      },
      "outputs": [],
      "source": [
        "import os\n",
        "import json\n",
        "import pyspark\n",
        "# import logging\n",
        "from pyspark.sql import SparkSession\n",
        "from pyspark.sql.types import *\n",
        "from pyspark.sql.functions import *\n",
        "\n",
        "# import logging\n",
        "\n",
        "\n",
        "\n",
        "\n",
        "spark = SparkSession.builder.getOrCreate()"
      ]
    },
    {
      "cell_type": "code",
      "execution_count": 2,
      "metadata": {
        "id": "K6COIFEtYaqB"
      },
      "outputs": [],
      "source": [
        "#Necessay Function\n",
        "def get_batter_bowler_striker(column, column_need):\n",
        "  if column_need.strip() == 'batter':\n",
        "    return column['batter']\n",
        "    print(column)\n",
        "  elif column_need.strip() == 'bowler':\n",
        "    return column['bowler']\n",
        "    print(column)\n",
        "  elif column_need.strip() == 'non_striker':\n",
        "    return column['non_striker']\n",
        "    print(column)\n",
        "\n",
        "#Necessay Function\n",
        "def get_run_ball_by_ball(column):\n",
        "\n",
        "  # column = column['runs']\n",
        "  # # column = dict(column)\n",
        "  runs_list = [-1]*3\n",
        "  # logger.info(\"this is the column\", column)\n",
        "\n",
        "  for scores in column.keys():\n",
        "    if scores == 'runs':\n",
        "      return column[scores]\n",
        "\n",
        "\n",
        "  return runs_list\n",
        "\n",
        "def get_info_and_meta_data(all_information):\n",
        "  for data in all_information.keys():\n",
        "    if data == 'meta':\n",
        "      meta_information = all_information['meta']\n",
        "    elif data == 'info':\n",
        "      info_information = all_information[\"info\"]\n",
        "  return meta_information, info_information\n",
        "\n",
        "def get_necessary_information(data):\n",
        "  date = data['dates'][0]\n",
        "\n",
        "  if \"city\" in data.keys():\n",
        "    city = data['city']\n",
        "  else:\n",
        "    city = \"NULL\"\n",
        "  event_name = data['event']['name']\n",
        "\n",
        "  if 'match_number' in data['event'].keys():\n",
        "    match_number = data['event']['match_number']\n",
        "  else:\n",
        "    match_number = \"NULL\"\n",
        "  gender = data['gender']\n",
        "\n",
        "  if \"winner\" in data['outcome'].keys():\n",
        "\n",
        "    winner_team = data['outcome']['winner']\n",
        "  elif 'result' in data['outcome'].keys():\n",
        "\n",
        "    winner_team = data['outcome']['result']\n",
        "\n",
        "  if \"winner\" in data['outcome'].keys():\n",
        "    if 'wickets' in data['outcome']['by'].keys():\n",
        "      winned_by = f\"{data['outcome']['by']['wickets']} wickets\"\n",
        "    elif 'runs' in data['outcome']['by'].keys():\n",
        "      winned_by = f\"{data['outcome']['by']['runs']} runs\"\n",
        "  else:\n",
        "    winned_by = \"NULL\"\n",
        "\n",
        "\n",
        "\n",
        "  team_1 = data['teams'][0]\n",
        "  team_2 = data['teams'][1]\n",
        "  return date, city, event_name, match_number, gender, winner_team, winned_by, team_1, team_2\n",
        "\n",
        "\n",
        "# print(get_run_ball_by_ball({'batter': 'L Lee', 'bowler': 'Panna Ghosh', 'non_striker': 'A Steyn', 'runs': {'batter': 0, 'extras': 0, 'total': 0}}))\n",
        "\n",
        "get_run_ball_by_ball_udf =  udf(lambda column: get_run_ball_by_ball(column), StringType())\n",
        "get_batter_bowler_striker_udf =  udf(lambda column, column_need: get_batter_bowler_striker(column, column_need), StringType())"
      ]
    },
    {
      "cell_type": "code",
      "execution_count": 16,
      "metadata": {
        "colab": {
          "base_uri": "https://localhost:8080/"
        },
        "id": "W8X_QVfXEAO8",
        "outputId": "d17df61c-d119-4cd8-97f2-abaf331a14a1"
      },
      "outputs": [
        {
          "name": "stdout",
          "output_type": "stream",
          "text": [
            "['1301329.json', '1041523.json', '1260105.json', '1161229.json', '603239.json', '1126728.json', '1260095.json', '1277095.json', '757509.json', '1202249.json', '1289033.json', '1131778.json', '1273422.json', '923327.json', '1243932.json', '808865.json', '1043961.json', '1375874.json', '1345092.json', '627007.json', '271465.json', '276226.json', '271466.json', '1344504.json', '1263617.json', '1244845.json', '1310985.json', '1156212.json', '1085960.json', '1243931.json', '1243912.json', '1328486.json', '1244843.json', '828245.json', '1085954.json', '644943.json', '946545.json', '1249233.json', '1301337.json', '1319713.json', '1131233.json', '1126718.json', '1085963.json', '1126727.json', '1263577.json', '584546.json', '757505.json', '1208344.json', '1344505.json', '527679.json', '1301330.json', '594914.json', '668513.json', '935823.json', '962017.json', '1260096.json', '1085946.json', '1085962.json', '542852.json', '1073429.json', '1392350.json', '1085970.json', '1260103.json', '1249234.json', '341306.json', '1243933.json', '1085947.json', '907375.json', '1073413.json', '1379758.json', '1336079.json', '1406078.json', '1187716.json', '312291.json', '1288211.json', '872481.json', '1089524.json', '1336077.json', '1145892.json', '312296.json', '1073430.json', '1243938.json', '593723.json', '1183514.json', '1243916.json', '1289034.json', '1243913.json', '1089533.json', '1050627.json', '1157706.json', '1243911.json', '1253269.json', '1208345.json', '1073422.json', '1208346.json', '1382166.json', '1157707.json', '1334413.json', '1288209.json', '798373.json', '594904.json', '1085958.json', '1260106.json', '1328487.json', '1085955.json', '1168018.json', '916645.json', '1153857.json', '1050623.json', '1392348.json', '1260104.json', '1382168.json', '1073421.json', '1415982.json', '542856.json', '1249242.json', '341302.json', '1085956.json', '872483.json', '935813.json', '754815.json', '1382169.json', '1243929.json', '1144437.json', '594891.json', '1277094.json', '1267325.json', '1375868.json', '1316645.json', '722391.json', '1405125.json', '1044203.json', '1384544.json', '1153856.json', '1243937.json', '1177017.json', '1289032.json', '808863.json', '1243926.json', '1050611.json', '1085969.json', '798371.json', '1073423.json', '1122905.json', '1277092.json', '1253270.json', '1144439.json', '1378199.json', '1243915.json', '1085974.json', '1308234.json', '1368832.json', '1403685.json', '1168024.json', '1345093.json', '1368830.json', '916661.json', '1243936.json', '594912.json', '1123205.json', '423387.json', '1368851.json', '1310984.json', '1138191.json', '946547.json', '1344506.json', '1073401.json', '1223946.json', '1138192.json', '1243930.json', '1085975.json', '627006.json', '1375866.json', '594901.json', '1316646.json', '935821.json', '1202251.json', '946549.json', '754787.json', '1073426.json', '644945.json', '1243920.json', '1388200.json', '1263576.json', '1085949.json', '1249232.json', '1301328.json', '1144982.json', '1085957.json', '1243918.json', '1144435.json', '1085948.json', '1319712.json', '1243923.json', '1281419.json', '1267328.json', '603241.json', '1085972.json', '594907.json', '935817.json', '1085964.json', '1322341.json', '1405124.json', '907391.json', '1059196.json', '1044209.json', '1089522.json', '1243922.json', '1378193.json', '1343931.json', '1122906.json', '1198472.json', '1183515.json', '1249241.json', '666039.json', '1138200.json', '1144436.json', '1260094.json', '1243910.json', '593724.json', '1172160.json', '1085971.json', '1260107.json', '1273420.json', '1382170.json', '1243908.json', '1288210.json', '357962.json', '1322343.json', '1183513.json', '1177016.json', '1168166.json', '1085961.json', '1289036.json', '1375872.json', '1187715.json', '798369.json', '1368831.json', '1336085.json', '1301338.json', '1277093.json', '1267329.json', '1144983.json', '1062580.json', '1243935.json', '1168023.json', '1378191.json', '1336078.json', '1379759.json', '1122904.json', '1198474.json', '1200181.json', '1172211.json', '1153855.json', '664303.json', '1172210.json', '1073428.json', '1334414.json', '1334412.json', '1392349.json', '1126717.json', '1281417.json', '1073427.json', '1273421.json', '1085967.json', '1384542.json', '1085965.json', '1243921.json', '1378198.json', '1388201.json', '542853.json', '666041.json', '1403683.json', '1379757.json', '1041525.json', '1243919.json', '1244844.json', '1086063.json', '1086064.json', '1406079.json', '1243928.json', '1085966.json', '1253268.json', '1253271.json', '1089528.json', '594909.json', '668511.json', '1301339.json', '1336084.json', '1131777.json', '1168016.json', '1415981.json', '1200182.json', '907389.json', '1073405.json', '1085953.json', '1308233.json', '1059195.json', '1176433.json', '1368849.json', '895797.json', '1200180.json', '1050609.json', '1249243.json', '1144984.json', '1336083.json', '1405126.json', '1243924.json', '1223945.json', '907393.json', '594897.json', '1168022.json', '1310986.json', '754809.json', '664299.json', '1085952.json', '1085968.json', '1089521.json', '1202250.json', '1050625.json', '1131232.json', '1144438.json', '542854.json', '1378192.json', '1172162.json', '1288322.json', '916647.json', '1253267.json', '1043955.json', '1243927.json', '1085945.json', '1073403.json', '1050607.json', '935819.json', '754811.json', '1161230.json', '383283.json', '1375873.json', '1263575.json', '1085973.json', '1073411.json', '1345094.json', '1267327.json', '1398259.json', '1316647.json', '1403684.json', 'README.txt', '593725.json', '1168165.json', '1043953.json', '1328485.json', '1126729.json', '1344503.json', '1281418.json', '1172161.json', '1243925.json', '1138193.json', '1161228.json', '1187714.json', '1089530.json', '1289035.json', '1176434.json', '1085959.json', '1267326.json', '1243934.json', '1308235.json', '584547.json', '1415980.json', '1319714.json', '1382167.json', '1176432.json', '1286901.json', '1322342.json', '1398260.json', '754789.json', '1406080.json', '527680.json', '1073424.json', '916663.json', '754813.json', '594894.json', '1126719.json', '1157708.json', '1343933.json', '757507.json', '1223944.json', '1286915.json', '1263618.json', '1398258.json', '1273419.json', '1382171.json', '1156214.json', '1177015.json', '312295.json', '584549.json', '1123204.json', '1168164.json', '1243917.json', '1273418.json', '1073408.json', '1388199.json', '594915.json', '1138201.json', '603240.json', '1243914.json', '1168017.json', '1343932.json', '1281420.json', '1263619.json', '1085951.json', '1243909.json', '666043.json', '1073425.json', '722389.json', '527681.json', '1375867.json']\n",
            "{'data_version': '1.1.0', 'created': '2022-07-15', 'revision': 1}\n",
            "+-----+----------+------------+----------------------------------+----------+----------+------------+------+-----------+---------+-----------+--------+-----------+---------------------------+-------------------+----------------------+\n",
            "|overs|FIRST_TEAM|SECOND_TEAM |EVENT_NAME                        |MATCH_DATE|MATCH_CITY|MATCH_NUMBER|GENDER|WINNER_TEAM|WINNED_BY|BATTER     |BOWLER  |NON_STRIKER|BATTER_SCORED_RUNS_PER_BALL|TOTAL_RUNS_PER_BALL|EXTRAS_EARNED_PER_BALL|\n",
            "+-----+----------+------------+----------------------------------+----------+----------+------------+------+-----------+---------+-----------+--------+-----------+---------------------------+-------------------+----------------------+\n",
            "|0    |England   |South Africa|South Africa Women tour of England|2022-07-15|Bristol   |2           |female|England    |114 runs |TT Beaumont|S Ismail|EL Lamb    |0                          |0                  |0                     |\n",
            "|0    |England   |South Africa|South Africa Women tour of England|2022-07-15|Bristol   |2           |female|England    |114 runs |TT Beaumont|S Ismail|EL Lamb    |1                          |1                  |0                     |\n",
            "|0    |England   |South Africa|South Africa Women tour of England|2022-07-15|Bristol   |2           |female|England    |114 runs |EL Lamb    |S Ismail|TT Beaumont|0                          |0                  |0                     |\n",
            "|0    |England   |South Africa|South Africa Women tour of England|2022-07-15|Bristol   |2           |female|England    |114 runs |EL Lamb    |S Ismail|TT Beaumont|0                          |4                  |4                     |\n",
            "|0    |England   |South Africa|South Africa Women tour of England|2022-07-15|Bristol   |2           |female|England    |114 runs |EL Lamb    |S Ismail|TT Beaumont|1                          |1                  |0                     |\n",
            "|0    |England   |South Africa|South Africa Women tour of England|2022-07-15|Bristol   |2           |female|England    |114 runs |TT Beaumont|S Ismail|EL Lamb    |0                          |0                  |0                     |\n",
            "|1    |England   |South Africa|South Africa Women tour of England|2022-07-15|Bristol   |2           |female|England    |114 runs |EL Lamb    |M Kapp  |TT Beaumont|1                          |1                  |0                     |\n",
            "|1    |England   |South Africa|South Africa Women tour of England|2022-07-15|Bristol   |2           |female|England    |114 runs |TT Beaumont|M Kapp  |EL Lamb    |0                          |0                  |0                     |\n",
            "|1    |England   |South Africa|South Africa Women tour of England|2022-07-15|Bristol   |2           |female|England    |114 runs |TT Beaumont|M Kapp  |EL Lamb    |4                          |4                  |0                     |\n",
            "|1    |England   |South Africa|South Africa Women tour of England|2022-07-15|Bristol   |2           |female|England    |114 runs |TT Beaumont|M Kapp  |EL Lamb    |0                          |0                  |0                     |\n",
            "+-----+----------+------------+----------------------------------+----------+----------+------------+------+-----------+---------+-----------+--------+-----------+---------------------------+-------------------+----------------------+\n",
            "only showing top 10 rows\n",
            "\n"
          ]
        }
      ],
      "source": [
        "\n",
        "all_the_files = os.listdir(\"/female_dataset\")\n",
        "print(all_the_files)\n",
        "necessary_columns = []\n",
        "for i in all_the_files:\n",
        "  # print(f\"/female_dataset/{i}\")\n",
        "  if i.endswith(\".json\"):\n",
        "    with open(f\"/female_dataset/{i}\",\"r\") as file_obj:\n",
        "      file_content = file_obj.read()\n",
        "      # print(file_content)\n",
        "      details = json.loads(file_content)\n",
        "      meta_information, info_information = get_info_and_meta_data(details)\n",
        "      date, city, event_name, match_number, gender, winner_team, winned_by, team_1, team_2 = get_necessary_information(info_information)\n",
        "      necessary_columns = []\n",
        "      temp_dict = {}\n",
        "      for i in range(len(details['innings'][0]['overs'])):\n",
        "        temp_dict['overs'] = i\n",
        "        temp_dict['balls_per_over'] = details['innings'][0]['overs'][i]['deliveries']\n",
        "        # print(student_details['innings'][0]['overs'][i]['deliveries'])\n",
        "        necessary_columns.append(temp_dict)\n",
        "        temp_dict = {}\n",
        "      dataframe = spark.createDataFrame(necessary_columns)\n",
        "      # dataframe.show(1000, False)\n",
        "      dataframe = dataframe.select(\"overs\", posexplode_outer(dataframe.balls_per_over))\n",
        "\n",
        "      dataframe_new = dataframe.withColumn(\"BATTER\", get_batter_bowler_striker_udf(col(\"col\"), lit(\"batter\")))\n",
        "      dataframe_new = dataframe_new.withColumn(\"BOWLER\", get_batter_bowler_striker_udf(col(\"col\"), lit(\"bowler\")))\n",
        "      dataframe_new = dataframe_new.withColumn(\"NON_STRIKER\", get_batter_bowler_striker_udf(col(\"col\"), lit(\"non_striker\")))\n",
        "      dataframe_new = dataframe_new.withColumn(\"runs_scored_per_ball\", get_run_ball_by_ball_udf(col(\"col\")))\n",
        "      dataframe_new = dataframe_new.select('*', lit(date).alias(\"MATCH_DATE\"), lit(city).alias(\"MATCH_CITY\"),\\\n",
        "                                           lit(event_name).alias(\"EVENT_NAME\"),lit(match_number).alias(\"MATCH_NUMBER\"),lit(gender).alias(\"GENDER\"),\\\n",
        "                                           lit(winner_team).alias(\"WINNER_TEAM\"),lit(winned_by).alias(\"WINNED_BY\"),lit(team_1).alias(\"FIRST_TEAM\"),lit(team_2).alias(\"SECOND_TEAM\"))\n",
        "\n",
        "      dataframe_new = dataframe_new.withColumn(\"runs_scored_per_ball\", regexp_replace(col(\"runs_scored_per_ball\"), \"(\\{extras=)|(total=)|(batter=)|(\\})\", \"\")).withColumn(\"EXTRAS_EARNED_PER_BALL\", trim(split(col(\"runs_scored_per_ball\"), ',').getItem(0))).withColumn(\"TOTAL_RUNS_PER_BALL\", trim(split(col(\"runs_scored_per_ball\"), ',').getItem(1))).withColumn(\"BATTER_SCORED_RUNS_PER_BALL\", trim(split(col(\"runs_scored_per_ball\"), ',').getItem(2)))\n",
        "      dataframe_new = dataframe_new.select('overs','FIRST_TEAM', 'SECOND_TEAM','EVENT_NAME','MATCH_DATE','MATCH_CITY','MATCH_NUMBER','GENDER','WINNER_TEAM','WINNED_BY','BATTER','BOWLER','NON_STRIKER','BATTER_SCORED_RUNS_PER_BALL','TOTAL_RUNS_PER_BALL', 'EXTRAS_EARNED_PER_BALL')\n",
        "      # dataframe_new.write.parquet(\"/output_folder/\")\\\n",
        "      # dataframe_new.write.mode(\"append\").format(\"parquet\").save(\"/output_folder/\")\n",
        "\n",
        "      dataframe_new.show(10, False)\n",
        "      break\n"
      ]
    },
    {
      "cell_type": "code",
      "execution_count": null,
      "metadata": {
        "id": "PRHGdp4SMpvr"
      },
      "outputs": [],
      "source": []
    }
  ],
  "metadata": {
    "colab": {
      "provenance": []
    },
    "kernelspec": {
      "display_name": "pyspark-env",
      "language": "python",
      "name": "pyspark-env"
    },
    "language_info": {
      "codemirror_mode": {
        "name": "ipython",
        "version": 3
      },
      "file_extension": ".py",
      "mimetype": "text/x-python",
      "name": "python",
      "nbconvert_exporter": "python",
      "pygments_lexer": "ipython3",
      "version": "3.11.2"
    }
  },
  "nbformat": 4,
  "nbformat_minor": 0
}
