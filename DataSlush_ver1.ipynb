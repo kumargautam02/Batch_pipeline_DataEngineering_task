{
  "cells": [
    {
      "cell_type": "code",
      "execution_count": 7,
      "metadata": {
        "id": "8oJZsHY5lG6D"
      },
      "outputs": [],
      "source": [
        "import os\n",
        "import json\n",
        "import pyspark\n",
        "# import logging\n",
        "from pyspark.sql import SparkSession\n",
        "from pyspark.sql.types import *\n",
        "from pyspark.sql.functions import *\n",
        "\n",
        "# import logging\n",
        "\n",
        "\n",
        "\n",
        "\n",
        "spark = SparkSession.builder.getOrCreate()"
      ]
    },
    {
      "cell_type": "code",
      "execution_count": 8,
      "metadata": {
        "id": "K6COIFEtYaqB"
      },
      "outputs": [],
      "source": [
        "#Necessay Function\n",
        "def get_batter_bowler_striker(column, column_need):\n",
        "  if column_need.strip() == 'batter':\n",
        "    return column['batter']\n",
        "    print(column)\n",
        "  elif column_need.strip() == 'bowler':\n",
        "    return column['bowler']\n",
        "    print(column)\n",
        "  elif column_need.strip() == 'non_striker':\n",
        "    return column['non_striker']\n",
        "    print(column)\n",
        "\n",
        "#Necessay Function\n",
        "def get_run_ball_by_ball(column):\n",
        "\n",
        "  # column = column['runs']\n",
        "  # # column = dict(column)\n",
        "  runs_list = [-1]*3\n",
        "  # logger.info(\"this is the column\", column)\n",
        "\n",
        "  for scores in column.keys():\n",
        "    if scores == 'runs':\n",
        "      return column[scores]\n",
        "\n",
        "\n",
        "  return runs_list\n",
        "\n",
        "def get_info_and_meta_data(all_information):\n",
        "  for data in all_information.keys():\n",
        "    if data == 'meta':\n",
        "      meta_information = all_information['meta']\n",
        "    elif data == 'info':\n",
        "      info_information = all_information[\"info\"]\n",
        "  return meta_information, info_information\n",
        "\n",
        "def get_necessary_information(data):\n",
        "  date = data['dates'][0]\n",
        "\n",
        "  if \"city\" in data.keys():\n",
        "    city = data['city']\n",
        "  else:\n",
        "    city = \"NULL\"\n",
        "  event_name = data['event']['name']\n",
        "\n",
        "  if 'match_number' in data['event'].keys():\n",
        "    match_number = data['event']['match_number']\n",
        "  else:\n",
        "    match_number = \"NULL\"\n",
        "  gender = data['gender']\n",
        "\n",
        "  if \"winner\" in data['outcome'].keys():\n",
        "\n",
        "    winner_team = data['outcome']['winner']\n",
        "  elif 'result' in data['outcome'].keys():\n",
        "\n",
        "    winner_team = data['outcome']['result']\n",
        "\n",
        "  if \"winner\" in data['outcome'].keys():\n",
        "    if 'wickets' in data['outcome']['by'].keys():\n",
        "      winned_by = f\"{data['outcome']['by']['wickets']} wickets\"\n",
        "    elif 'runs' in data['outcome']['by'].keys():\n",
        "      winned_by = f\"{data['outcome']['by']['runs']} runs\"\n",
        "  else:\n",
        "    winned_by = \"NULL\"\n",
        "\n",
        "\n",
        "\n",
        "  team_1 = data['teams'][0]\n",
        "  team_2 = data['teams'][1]\n",
        "  return date, city, event_name, match_number, gender, winner_team, winned_by, team_1, team_2\n",
        "\n",
        "\n",
        "# print(get_run_ball_by_ball({'batter': 'L Lee', 'bowler': 'Panna Ghosh', 'non_striker': 'A Steyn', 'runs': {'batter': 0, 'extras': 0, 'total': 0}}))\n",
        "\n",
        "get_run_ball_by_ball_udf =  udf(lambda column: get_run_ball_by_ball(column), StringType())\n",
        "get_batter_bowler_striker_udf =  udf(lambda column, column_need: get_batter_bowler_striker(column, column_need), StringType())"
      ]
    },
    {
      "cell_type": "code",
      "execution_count": 9,
      "metadata": {
        "colab": {
          "base_uri": "https://localhost:8080/"
        },
        "id": "W8X_QVfXEAO8",
        "outputId": "d17df61c-d119-4cd8-97f2-abaf331a14a1"
      },
      "outputs": [
        {
          "name": "stdout",
          "output_type": "stream",
          "text": [
            "+-----+----------+-----------+--------------------------------+----------+----------+------------+------+-----------+---------+---------+---------------+-----------+---------------------------+-------------------+----------------------+\n",
            "|overs|FIRST_TEAM|SECOND_TEAM|EVENT_NAME                      |MATCH_DATE|MATCH_CITY|MATCH_NUMBER|GENDER|WINNER_TEAM|WINNED_BY|BATTER   |BOWLER         |NON_STRIKER|BATTER_SCORED_RUNS_PER_BALL|TOTAL_RUNS_PER_BALL|EXTRAS_EARNED_PER_BALL|\n",
            "+-----+----------+-----------+--------------------------------+----------+----------+------------+------+-----------+---------+---------+---------------+-----------+---------------------------+-------------------+----------------------+\n",
            "|0    |Australia |Pakistan   |Pakistan in Australia ODI Series|2017-01-13|Brisbane  |1           |male  |Australia  |92 runs  |DA Warner|Mohammad Amir  |TM Head    |0                          |extras=0           |{0                    |\n",
            "|0    |Australia |Pakistan   |Pakistan in Australia ODI Series|2017-01-13|Brisbane  |1           |male  |Australia  |92 runs  |DA Warner|Mohammad Amir  |TM Head    |0                          |extras=0           |{0                    |\n",
            "|0    |Australia |Pakistan   |Pakistan in Australia ODI Series|2017-01-13|Brisbane  |1           |male  |Australia  |92 runs  |DA Warner|Mohammad Amir  |TM Head    |0                          |extras=0           |{0                    |\n",
            "|0    |Australia |Pakistan   |Pakistan in Australia ODI Series|2017-01-13|Brisbane  |1           |male  |Australia  |92 runs  |DA Warner|Mohammad Amir  |TM Head    |0                          |extras=0           |{0                    |\n",
            "|0    |Australia |Pakistan   |Pakistan in Australia ODI Series|2017-01-13|Brisbane  |1           |male  |Australia  |92 runs  |DA Warner|Mohammad Amir  |TM Head    |1                          |extras=1           |{0                    |\n",
            "|0    |Australia |Pakistan   |Pakistan in Australia ODI Series|2017-01-13|Brisbane  |1           |male  |Australia  |92 runs  |DA Warner|Mohammad Amir  |TM Head    |0                          |extras=0           |{0                    |\n",
            "|0    |Australia |Pakistan   |Pakistan in Australia ODI Series|2017-01-13|Brisbane  |1           |male  |Australia  |92 runs  |DA Warner|Mohammad Amir  |TM Head    |0                          |extras=0           |{0                    |\n",
            "|1    |Australia |Pakistan   |Pakistan in Australia ODI Series|2017-01-13|Brisbane  |1           |male  |Australia  |92 runs  |TM Head  |Mohammad Hafeez|DA Warner  |0                          |extras=0           |{0                    |\n",
            "|1    |Australia |Pakistan   |Pakistan in Australia ODI Series|2017-01-13|Brisbane  |1           |male  |Australia  |92 runs  |TM Head  |Mohammad Hafeez|DA Warner  |1                          |extras=0           |{1                    |\n",
            "|1    |Australia |Pakistan   |Pakistan in Australia ODI Series|2017-01-13|Brisbane  |1           |male  |Australia  |92 runs  |DA Warner|Mohammad Hafeez|TM Head    |0                          |extras=0           |{0                    |\n",
            "+-----+----------+-----------+--------------------------------+----------+----------+------------+------+-----------+---------+---------+---------------+-----------+---------------------------+-------------------+----------------------+\n",
            "only showing top 10 rows\n",
            "\n"
          ]
        }
      ],
      "source": [
        "path = \"C:/Users/Admin/Downloads/male_dataset\"\n",
        "all_the_files = os.listdir(path)\n",
        "# print(all_the_files)\n",
        "necessary_columns = []\n",
        "for i in all_the_files:\n",
        "  # print(f\"/female_dataset/{i}\")\n",
        "  if i.endswith(\".json\"):\n",
        "    with open(f\"{path}/{i}\",\"r\") as file_obj:\n",
        "      file_content = file_obj.read()\n",
        "      # print(file_content)\n",
        "      details = json.loads(file_content)\n",
        "      meta_information, info_information = get_info_and_meta_data(details)\n",
        "      date, city, event_name, match_number, gender, winner_team, winned_by, team_1, team_2 = get_necessary_information(info_information)\n",
        "      necessary_columns = []\n",
        "      temp_dict = {}\n",
        "      for i in range(len(details['innings'][0]['overs'])):\n",
        "        temp_dict['overs'] = i\n",
        "        temp_dict['balls_per_over'] = details['innings'][0]['overs'][i]['deliveries']\n",
        "        # print(student_details['innings'][0]['overs'][i]['deliveries'])\n",
        "        necessary_columns.append(temp_dict)\n",
        "        temp_dict = {}\n",
        "      dataframe = spark.createDataFrame(necessary_columns)\n",
        "      # dataframe.show(1000, False)\n",
        "      dataframe = dataframe.select(\"overs\", posexplode_outer(dataframe.balls_per_over))\n",
        "\n",
        "      dataframe_new = dataframe.withColumn(\"BATTER\", get_batter_bowler_striker_udf(col(\"col\"), lit(\"batter\")))\n",
        "      dataframe_new = dataframe_new.withColumn(\"BOWLER\", get_batter_bowler_striker_udf(col(\"col\"), lit(\"bowler\")))\n",
        "      dataframe_new = dataframe_new.withColumn(\"NON_STRIKER\", get_batter_bowler_striker_udf(col(\"col\"), lit(\"non_striker\")))\n",
        "      dataframe_new = dataframe_new.withColumn(\"runs_scored_per_ball\", get_run_ball_by_ball_udf(col(\"col\")))\n",
        "      dataframe_new = dataframe_new.select('*', lit(date).alias(\"MATCH_DATE\"), lit(city).alias(\"MATCH_CITY\"),\\\n",
        "                                           lit(event_name).alias(\"EVENT_NAME\"),lit(match_number).alias(\"MATCH_NUMBER\"),lit(gender).alias(\"GENDER\"),\\\n",
        "                                           lit(winner_team).alias(\"WINNER_TEAM\"),lit(winned_by).alias(\"WINNED_BY\"),lit(team_1).alias(\"FIRST_TEAM\"),lit(team_2).alias(\"SECOND_TEAM\"))\n",
        "\n",
        "      dataframe_new = dataframe_new.withColumn(\"runs_scored_per_ball\", regexp_replace(col(\"runs_scored_per_ball\"), \"(\\{extras=)|(total=)|(batter=)|(\\})\", \"\")).withColumn(\"EXTRAS_EARNED_PER_BALL\", trim(split(col(\"runs_scored_per_ball\"), ',').getItem(0))).withColumn(\"TOTAL_RUNS_PER_BALL\", trim(split(col(\"runs_scored_per_ball\"), ',').getItem(1))).withColumn(\"BATTER_SCORED_RUNS_PER_BALL\", trim(split(col(\"runs_scored_per_ball\"), ',').getItem(2)))\n",
        "      dataframe_new = dataframe_new.select('overs','FIRST_TEAM', 'SECOND_TEAM','EVENT_NAME','MATCH_DATE','MATCH_CITY','MATCH_NUMBER','GENDER','WINNER_TEAM','WINNED_BY','BATTER','BOWLER','NON_STRIKER','BATTER_SCORED_RUNS_PER_BALL','TOTAL_RUNS_PER_BALL', 'EXTRAS_EARNED_PER_BALL')\n",
        "      # dataframe_new.write.parquet(\"/output_folder/\")\\\n",
        "      # dataframe_new.write.mode(\"append\").format(\"parquet\").save(\"/output_folder/\")\n",
        "\n",
        "      dataframe_new.show(10, False)\n",
        "      break\n"
      ]
    },
    {
      "cell_type": "code",
      "execution_count": null,
      "metadata": {
        "id": "PRHGdp4SMpvr"
      },
      "outputs": [],
      "source": []
    }
  ],
  "metadata": {
    "colab": {
      "provenance": []
    },
    "kernelspec": {
      "display_name": ".venv",
      "language": "python",
      "name": "python3"
    },
    "language_info": {
      "codemirror_mode": {
        "name": "ipython",
        "version": 3
      },
      "file_extension": ".py",
      "mimetype": "text/x-python",
      "name": "python",
      "nbconvert_exporter": "python",
      "pygments_lexer": "ipython3",
      "version": "3.10.11"
    }
  },
  "nbformat": 4,
  "nbformat_minor": 0
}
